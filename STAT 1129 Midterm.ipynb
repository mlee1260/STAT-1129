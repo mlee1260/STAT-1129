{
 "cells": [
  {
   "cell_type": "code",
   "execution_count": 40,
   "id": "ec8e8913",
   "metadata": {},
   "outputs": [],
   "source": [
    "midlist=[2,4,6,8,4,5,2,1,9,0,4,6,7,4,3,2,1,9,10,3,7,9,6,0,1,3,5,6,7,8,9,10,6,7,4,3]\n",
    "middic={}"
   ]
  },
  {
   "cell_type": "code",
   "execution_count": 45,
   "id": "b86ba81e",
   "metadata": {},
   "outputs": [],
   "source": [
    "for num in midlist:\n",
    "        if num in middic:\n",
    "            middic[num]+=1\n",
    "        else:\n",
    "            middic[num]=1"
   ]
  },
  {
   "cell_type": "code",
   "execution_count": 46,
   "id": "f81758c6",
   "metadata": {},
   "outputs": [
    {
     "data": {
      "text/plain": [
       "{2: 3, 4: 5, 6: 5, 8: 2, 5: 2, 1: 3, 9: 4, 0: 2, 7: 4, 3: 4, 10: 2}"
      ]
     },
     "execution_count": 46,
     "metadata": {},
     "output_type": "execute_result"
    }
   ],
   "source": [
    "middic"
   ]
  },
  {
   "cell_type": "code",
   "execution_count": 47,
   "id": "97a9913c",
   "metadata": {},
   "outputs": [],
   "source": [
    "import matplotlib.pyplot as plt"
   ]
  },
  {
   "cell_type": "code",
   "execution_count": 53,
   "id": "a45546ef",
   "metadata": {},
   "outputs": [
    {
     "data": {
      "image/png": "[encoded data removed]",
      "text/plain": [
       "<Figure size 432x288 with 1 Axes>"
      ]
     },
     "metadata": {
      "needs_background": "light"
     },
     "output_type": "display_data"
    }
   ],
   "source": [
    "plt.bar(middic.keys(),middic.values(), color = 'lightblue')\n",
    "plt.title('Number Frequency')\n",
    "plt.xlabel('Number')\n",
    "plt.ylabel('Count')\n",
    "plt.show()"
   ]
  },
  {
   "cell_type": "code",
   "execution_count": 56,
   "id": "1c633081",
   "metadata": {},
   "outputs": [],
   "source": [
    "import json"
   ]
  },
  {
   "cell_type": "code",
   "execution_count": 60,
   "id": "f98e24f0",
   "metadata": {},
   "outputs": [
    {
     "data": {
      "text/plain": [
       "'{\"2\": 3, \"4\": 5, \"6\": 5, \"8\": 2, \"5\": 2, \"1\": 3, \"9\": 4, \"0\": 2, \"7\": 4, \"3\": 4, \"10\": 2}'"
      ]
     },
     "execution_count": 60,
     "metadata": {},
     "output_type": "execute_result"
    }
   ],
   "source": [
    "with open(\"STAT 1129 Midterm Q1.json\", \"w\") as out:\n",
    "    json.dump(middic,out)\n",
    "q1=open(\"STAT 1129 Midterm Q1.json\",\"r\")\n",
    "q1.read()"
   ]
  },
  {
   "cell_type": "code",
   "execution_count": 9,
   "id": "2d25bab2",
   "metadata": {},
   "outputs": [],
   "source": [
    "import pandas as pd\n",
    "middata=pd.read_json('your_posts_1.json')"
   ]
  },
  {
   "cell_type": "code",
   "execution_count": 10,
   "id": "431002a7",
   "metadata": {},
   "outputs": [
    {
     "data": {
      "text/plain": [
       "0     2018-06-30 19:05:02\n",
       "1     2019-03-13 00:48:20\n",
       "2     2019-07-03 14:33:11\n",
       "3     2019-07-15 16:15:38\n",
       "4     2019-07-26 20:39:44\n",
       "              ...        \n",
       "184   2021-09-08 01:30:57\n",
       "185   2021-10-07 23:51:58\n",
       "186   2021-10-09 16:30:03\n",
       "187   2021-10-21 23:16:18\n",
       "188   2021-10-27 13:56:41\n",
       "Name: date, Length: 189, dtype: datetime64[ns]"
      ]
     },
     "execution_count": 10,
     "metadata": {},
     "output_type": "execute_result"
    }
   ],
   "source": [
    "middata.rename(columns={'timestamp':'date'},inplace=True)\n",
    "middata=middata.drop(['attachments','title','tags'],axis=1)\n",
    "pd.to_datetime(middata['date'])"
   ]
  },
  {
   "cell_type": "code",
   "execution_count": 11,
   "id": "618c4165",
   "metadata": {},
   "outputs": [
    {
     "data": {
      "text/html": [
       "<div>\n",
       "<style scoped>\n",
       "    .dataframe tbody tr th:only-of-type {\n",
       "        vertical-align: middle;\n",
       "    }\n",
       "\n",
       "    .dataframe tbody tr th {\n",
       "        vertical-align: top;\n",
       "    }\n",
       "\n",
       "    .dataframe thead th {\n",
       "        text-align: right;\n",
       "    }\n",
       "</style>\n",
       "<table border=\"1\" class=\"dataframe\">\n",
       "  <thead>\n",
       "    <tr style=\"text-align: right;\">\n",
       "      <th></th>\n",
       "      <th>date</th>\n",
       "      <th>data</th>\n",
       "    </tr>\n",
       "  </thead>\n",
       "  <tbody>\n",
       "    <tr>\n",
       "      <th>0</th>\n",
       "      <td>2018-06-30 19:05:02</td>\n",
       "      <td>[{'post': 'Watch Miranda Try To Kill Xylem'}]</td>\n",
       "    </tr>\n",
       "    <tr>\n",
       "      <th>1</th>\n",
       "      <td>2019-03-13 00:48:20</td>\n",
       "      <td>[{'post': 'Charlie Coker nominated me for the ...</td>\n",
       "    </tr>\n",
       "    <tr>\n",
       "      <th>2</th>\n",
       "      <td>2019-07-03 14:33:11</td>\n",
       "      <td>[{'post': 'These shows are gonna be great! Def...</td>\n",
       "    </tr>\n",
       "  </tbody>\n",
       "</table>\n",
       "</div>"
      ],
      "text/plain": [
       "                 date                                               data\n",
       "0 2018-06-30 19:05:02      [{'post': 'Watch Miranda Try To Kill Xylem'}]\n",
       "1 2019-03-13 00:48:20  [{'post': 'Charlie Coker nominated me for the ...\n",
       "2 2019-07-03 14:33:11  [{'post': 'These shows are gonna be great! Def..."
      ]
     },
     "execution_count": 11,
     "metadata": {},
     "output_type": "execute_result"
    }
   ],
   "source": [
    "middata.head(3)"
   ]
  },
  {
   "cell_type": "code",
   "execution_count": 14,
   "id": "f5305a31",
   "metadata": {},
   "outputs": [],
   "source": [
    "middata=middata.set_index('date')"
   ]
  },
  {
   "cell_type": "code",
   "execution_count": 15,
   "id": "2ff649d4",
   "metadata": {},
   "outputs": [
    {
     "data": {
      "text/plain": [
       "date\n",
       "2018-06-01     1\n",
       "2018-07-01     0\n",
       "2018-08-01     0\n",
       "2018-09-01     0\n",
       "2018-10-01     0\n",
       "2018-11-01     0\n",
       "2018-12-01     0\n",
       "2019-01-01     0\n",
       "2019-02-01     0\n",
       "2019-03-01     1\n",
       "2019-04-01     0\n",
       "2019-05-01     0\n",
       "2019-06-01     0\n",
       "2019-07-01     4\n",
       "2019-08-01     9\n",
       "2019-09-01     5\n",
       "2019-10-01     6\n",
       "2019-11-01     9\n",
       "2019-12-01     3\n",
       "2020-01-01     4\n",
       "2020-02-01     1\n",
       "2020-03-01     7\n",
       "2020-04-01     4\n",
       "2020-05-01     5\n",
       "2020-06-01    18\n",
       "2020-07-01    20\n",
       "2020-08-01    16\n",
       "2020-09-01    15\n",
       "2020-10-01     6\n",
       "2020-11-01     1\n",
       "2020-12-01     5\n",
       "2021-01-01     3\n",
       "2021-02-01     7\n",
       "2021-03-01     6\n",
       "2021-04-01     8\n",
       "2021-05-01     5\n",
       "2021-06-01     3\n",
       "2021-07-01     6\n",
       "2021-08-01     4\n",
       "2021-09-01     3\n",
       "2021-10-01     4\n",
       "Freq: MS, Name: data, dtype: int64"
      ]
     },
     "execution_count": 15,
     "metadata": {},
     "output_type": "execute_result"
    }
   ],
   "source": [
    "posts = middata['data'].resample('MS').size()\n",
    "posts"
   ]
  },
  {
   "cell_type": "code",
   "execution_count": 22,
   "id": "1ad07ef2",
   "metadata": {},
   "outputs": [],
   "source": [
    "import matplotlib.pyplot as plt\n",
    "xlabels=posts.index"
   ]
  },
  {
   "cell_type": "code",
   "execution_count": 77,
   "id": "270c79d8",
   "metadata": {},
   "outputs": [
    {
     "data": {
      "image/png": "[encoded data removed]",
      "text/plain": [
       "<Figure size 1800x1500 with 1 Axes>"
      ]
     },
     "metadata": {},
     "output_type": "display_data"
    }
   ],
   "source": [
    "from matplotlib.pyplot import figure\n",
    "figure(num=None, figsize=(18,15), dpi=100, facecolor =\"w\", edgecolor =\"black\")\n",
    "plt.bar(xlabels,posts,width = 20,color=\"blue\")\n",
    "yticks=[*range(0,21,1)]\n",
    "plt.yticks(np.arange(0,21),yticks)\n",
    "fontlabel = {'family': 'sans-serif','color':'black','size':20}\n",
    "fonttitle = {'family': 'sans-serif','color':'black','size':30}\n",
    "plt.xlabel(\"Date\", fontdict=fontlabel)\n",
    "plt.ylabel(\"Posts\", fontdict=fontlabel)\n",
    "plt.title(\"Facebook Post Frequency\", fontdict=fonttitle)\n",
    "plt.grid(color = \"grey\")\n",
    "plt.show()"
   ]
  },
  {
   "cell_type": "code",
   "execution_count": null,
   "id": "d7c692b1",
   "metadata": {},
   "outputs": [],
   "source": []
  }
 ],
 "metadata": {
  "kernelspec": {
   "display_name": "Python 3",
   "language": "python",
   "name": "python3"
  },
  "language_info": {
   "codemirror_mode": {
    "name": "ipython",
    "version": 3
   },
   "file_extension": ".py",
   "mimetype": "text/x-python",
   "name": "python",
   "nbconvert_exporter": "python",
   "pygments_lexer": "ipython3",
   "version": "3.8.8"
  }
 },
 "nbformat": 4,
 "nbformat_minor": 5
}
