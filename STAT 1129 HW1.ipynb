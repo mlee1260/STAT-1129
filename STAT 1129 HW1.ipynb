{
 "cells": [
  {
   "cell_type": "code",
   "execution_count": 17,
   "id": "461b655c",
   "metadata": {},
   "outputs": [
    {
     "name": "stdout",
     "output_type": "stream",
     "text": [
      "['green', 'blue', 'purple']\n"
     ]
    }
   ],
   "source": [
    "FavColors = [\"green\", \"blue\", \"purple\"]\n",
    "print(FavColors)"
   ]
  },
  {
   "cell_type": "code",
   "execution_count": 18,
   "id": "b18c3d43",
   "metadata": {},
   "outputs": [
    {
     "name": "stdout",
     "output_type": "stream",
     "text": [
      "[30, 33, 36, 39, 42, 45, 48, 51, 54, 57, 60]\n"
     ]
    }
   ],
   "source": [
    "Numbers = list(range(30, 63, 3))\n",
    "print(Numbers)"
   ]
  },
  {
   "cell_type": "code",
   "execution_count": 14,
   "id": "31e65a9c",
   "metadata": {},
   "outputs": [],
   "source": [
    "NumbersTuple = (Numbers,)"
   ]
  },
  {
   "cell_type": "code",
   "execution_count": 19,
   "id": "3dd4c2db",
   "metadata": {},
   "outputs": [
    {
     "name": "stdout",
     "output_type": "stream",
     "text": [
      "([30, 33, 36, 39, 42, 45, 48, 51, 54, 57, 60],)\n"
     ]
    }
   ],
   "source": [
    "print(NumbersTuple)"
   ]
  },
  {
   "cell_type": "code",
   "execution_count": 16,
   "id": "1d2e57a8",
   "metadata": {},
   "outputs": [
    {
     "data": {
      "text/plain": [
       "(30, 33, 36, 39, 42, 45, 48, 51, 54, 57, 60)"
      ]
     },
     "execution_count": 16,
     "metadata": {},
     "output_type": "execute_result"
    }
   ],
   "source": [
    "#alternatively...\n",
    "tuple(Numbers)"
   ]
  },
  {
   "cell_type": "code",
   "execution_count": 36,
   "id": "5dae2031",
   "metadata": {},
   "outputs": [
    {
     "name": "stdout",
     "output_type": "stream",
     "text": [
      "[]\n"
     ]
    }
   ],
   "source": [
    "EmptyList = []\n",
    "print(EmptyList)"
   ]
  },
  {
   "cell_type": "code",
   "execution_count": 37,
   "id": "5d69d403",
   "metadata": {},
   "outputs": [],
   "source": [
    "EmptyList.append(0)\n",
    "EmptyList.append(1)\n",
    "EmptyList.append(2)\n",
    "EmptyList.append(3)\n",
    "EmptyList.append(4)\n",
    "EmptyList.append(5)"
   ]
  },
  {
   "cell_type": "code",
   "execution_count": 38,
   "id": "5b2a1425",
   "metadata": {},
   "outputs": [
    {
     "name": "stdout",
     "output_type": "stream",
     "text": [
      "[0, 1, 2, 3, 4, 5]\n"
     ]
    }
   ],
   "source": [
    "print(EmptyList)"
   ]
  },
  {
   "cell_type": "code",
   "execution_count": 39,
   "id": "f8cb604e",
   "metadata": {},
   "outputs": [],
   "source": [
    "del EmptyList[2]"
   ]
  },
  {
   "cell_type": "code",
   "execution_count": 40,
   "id": "2634ee2b",
   "metadata": {},
   "outputs": [
    {
     "name": "stdout",
     "output_type": "stream",
     "text": [
      "[0, 1, 3, 4, 5]\n"
     ]
    }
   ],
   "source": [
    "print(EmptyList)"
   ]
  },
  {
   "cell_type": "code",
   "execution_count": 41,
   "id": "3e44053b",
   "metadata": {},
   "outputs": [
    {
     "name": "stdout",
     "output_type": "stream",
     "text": [
      "[0, 1, 2.0, 3, 4, 5]\n"
     ]
    }
   ],
   "source": [
    "EmptyList.insert(2, 2.0)\n",
    "print(EmptyList)"
   ]
  },
  {
   "cell_type": "code",
   "execution_count": 43,
   "id": "b0c0a2c3",
   "metadata": {},
   "outputs": [
    {
     "data": {
      "text/plain": [
       "6"
      ]
     },
     "execution_count": 43,
     "metadata": {},
     "output_type": "execute_result"
    }
   ],
   "source": [
    "len(EmptyList)"
   ]
  },
  {
   "cell_type": "code",
   "execution_count": 44,
   "id": "ac6da63a",
   "metadata": {},
   "outputs": [
    {
     "data": {
      "text/plain": [
       "5"
      ]
     },
     "execution_count": 44,
     "metadata": {},
     "output_type": "execute_result"
    }
   ],
   "source": [
    "max(EmptyList)"
   ]
  },
  {
   "cell_type": "code",
   "execution_count": 45,
   "id": "46465483",
   "metadata": {},
   "outputs": [
    {
     "data": {
      "text/plain": [
       "0"
      ]
     },
     "execution_count": 45,
     "metadata": {},
     "output_type": "execute_result"
    }
   ],
   "source": [
    "min(EmptyList)"
   ]
  },
  {
   "cell_type": "code",
   "execution_count": 1,
   "id": "eed80555",
   "metadata": {},
   "outputs": [],
   "source": [
    "TenNumbers = list(range(11))"
   ]
  },
  {
   "cell_type": "code",
   "execution_count": 2,
   "id": "633e7602",
   "metadata": {},
   "outputs": [
    {
     "name": "stdout",
     "output_type": "stream",
     "text": [
      "[0, 1, 2, 3, 4, 5, 6, 7, 8, 9, 10]\n"
     ]
    }
   ],
   "source": [
    "print(TenNumbers)"
   ]
  },
  {
   "cell_type": "code",
   "execution_count": 3,
   "id": "d93e8370",
   "metadata": {},
   "outputs": [
    {
     "data": {
      "text/plain": [
       "55"
      ]
     },
     "execution_count": 3,
     "metadata": {},
     "output_type": "execute_result"
    }
   ],
   "source": [
    "1+2+3+4+5+6+7+8+9+10"
   ]
  },
  {
   "cell_type": "code",
   "execution_count": 4,
   "id": "13d0b532",
   "metadata": {},
   "outputs": [
    {
     "data": {
      "text/plain": [
       "55"
      ]
     },
     "execution_count": 4,
     "metadata": {},
     "output_type": "execute_result"
    }
   ],
   "source": [
    "#alternatively...\n",
    "sum(TenNumbers)"
   ]
  },
  {
   "cell_type": "code",
   "execution_count": null,
   "id": "d1a238d4",
   "metadata": {},
   "outputs": [],
   "source": []
  }
 ],
 "metadata": {
  "kernelspec": {
   "display_name": "Python 3",
   "language": "python",
   "name": "python3"
  },
  "language_info": {
   "codemirror_mode": {
    "name": "ipython",
    "version": 3
   },
   "file_extension": ".py",
   "mimetype": "text/x-python",
   "name": "python",
   "nbconvert_exporter": "python",
   "pygments_lexer": "ipython3",
   "version": "3.8.8"
  }
 },
 "nbformat": 4,
 "nbformat_minor": 5
}
