{
 "cells": [
  {
   "cell_type": "code",
   "execution_count": 16,
   "id": "a0b0a6f8",
   "metadata": {},
   "outputs": [
    {
     "name": "stdout",
     "output_type": "stream",
     "text": [
      "{'Andy': 88, 'Amy': 66, 'James': 90, 'Jules': 55, 'Arthur': 77}\n"
     ]
    }
   ],
   "source": [
    "grades = {'Andy':88,'Amy':66,'James':90,'Jules':55,'Arthur':77}\n",
    "print(grades)"
   ]
  },
  {
   "cell_type": "code",
   "execution_count": 9,
   "id": "2ae38d44",
   "metadata": {},
   "outputs": [
    {
     "name": "stdout",
     "output_type": "stream",
     "text": [
      "Name: Andy , Grade: 88\n",
      "Name: Amy , Grade: 66\n",
      "Name: James , Grade: 90\n",
      "Name: Jules , Grade: 55\n",
      "Name: Arthur , Grade: 77\n"
     ]
    }
   ],
   "source": [
    "for k,v in grades.items():\n",
    "    print('Name:',k,',','Grade:',v)"
   ]
  },
  {
   "cell_type": "code",
   "execution_count": 26,
   "id": "3a44c4da",
   "metadata": {},
   "outputs": [
    {
     "name": "stdout",
     "output_type": "stream",
     "text": [
      "Class average is 75.2 .\n"
     ]
    }
   ],
   "source": [
    "grades = {'Andy':88,'Amy':66,'James':90,'Jules':55,'Arthur':77}\n",
    "avg = sum(grades.values())/len(grades.values())\n",
    "print(\"Class average is\",avg,'.')"
   ]
  },
  {
   "cell_type": "code",
   "execution_count": 28,
   "id": "6caa0c8e",
   "metadata": {},
   "outputs": [
    {
     "name": "stdout",
     "output_type": "stream",
     "text": [
      "Class highest grade is 90 .\n"
     ]
    }
   ],
   "source": [
    "print('Class highest grade is',max(grades.values()),'.')"
   ]
  },
  {
   "cell_type": "code",
   "execution_count": 29,
   "id": "970bf235",
   "metadata": {},
   "outputs": [
    {
     "name": "stdout",
     "output_type": "stream",
     "text": [
      "Class lowest grade is 55 .\n"
     ]
    }
   ],
   "source": [
    "print('Class lowest grade is',min(grades.values()),'.')"
   ]
  },
  {
   "cell_type": "code",
   "execution_count": 31,
   "id": "747cf912",
   "metadata": {},
   "outputs": [
    {
     "name": "stdout",
     "output_type": "stream",
     "text": [
      "Andy\n",
      "Amy\n"
     ]
    }
   ],
   "source": [
    "for i in grades:\n",
    "    if 'J' in i:\n",
    "        break\n",
    "    print(i)"
   ]
  },
  {
   "cell_type": "code",
   "execution_count": 32,
   "id": "84b6b9a5",
   "metadata": {},
   "outputs": [
    {
     "name": "stdout",
     "output_type": "stream",
     "text": [
      "Andy\n",
      "Amy\n",
      "Arthur\n"
     ]
    }
   ],
   "source": [
    "for i in grades:\n",
    "    if 'J' in i:\n",
    "        continue\n",
    "    print(i)"
   ]
  },
  {
   "cell_type": "code",
   "execution_count": 40,
   "id": "ce218838",
   "metadata": {},
   "outputs": [],
   "source": [
    "def gradefinder(studentname):\n",
    "    for name in grades:\n",
    "        if name == studentname:\n",
    "            print(grades[k])\n",
    "            break\n",
    "        else:\n",
    "            print('Student name cannot be found.')\n",
    "            break"
   ]
  },
  {
   "cell_type": "code",
   "execution_count": 42,
   "id": "f309ce24",
   "metadata": {},
   "outputs": [
    {
     "name": "stdout",
     "output_type": "stream",
     "text": [
      "88\n"
     ]
    }
   ],
   "source": [
    "gradefinder('Andy')"
   ]
  },
  {
   "cell_type": "code",
   "execution_count": 41,
   "id": "1c337371",
   "metadata": {},
   "outputs": [
    {
     "name": "stdout",
     "output_type": "stream",
     "text": [
      "Student name cannot be found.\n"
     ]
    }
   ],
   "source": [
    "gradefinder('Sammy')"
   ]
  },
  {
   "cell_type": "code",
   "execution_count": 19,
   "id": "54fb824c",
   "metadata": {},
   "outputs": [],
   "source": [
    "def lessthan(value):\n",
    "    num = range(value)\n",
    "    for x in num:\n",
    "        if x <= value:\n",
    "            print(x)\n",
    "        else:\n",
    "            break"
   ]
  },
  {
   "cell_type": "code",
   "execution_count": 23,
   "id": "b3f9b78f",
   "metadata": {},
   "outputs": [
    {
     "name": "stdout",
     "output_type": "stream",
     "text": [
      "0\n",
      "1\n",
      "2\n",
      "3\n",
      "4\n"
     ]
    }
   ],
   "source": [
    "lessthan(5)"
   ]
  },
  {
   "cell_type": "code",
   "execution_count": 40,
   "id": "5d426f4f",
   "metadata": {},
   "outputs": [],
   "source": [
    "def powerof(num1):\n",
    "    n=0\n",
    "    while n <= num1:\n",
    "        print(n,pow(n,n))\n",
    "        n=n+1\n",
    "    else:\n",
    "        print('Greater than',num1)"
   ]
  },
  {
   "cell_type": "code",
   "execution_count": 41,
   "id": "19a1abe8",
   "metadata": {},
   "outputs": [
    {
     "name": "stdout",
     "output_type": "stream",
     "text": [
      "0 1\n",
      "1 1\n",
      "2 4\n",
      "3 27\n",
      "4 256\n",
      "5 3125\n",
      "6 46656\n",
      "7 823543\n",
      "8 16777216\n",
      "Greater than 8\n"
     ]
    }
   ],
   "source": [
    "powerof(8)"
   ]
  },
  {
   "cell_type": "code",
   "execution_count": 94,
   "id": "cc251b3c",
   "metadata": {},
   "outputs": [],
   "source": [
    "def addition(num2):\n",
    "    sum = 0\n",
    "    m=1\n",
    "    while m<=num2:\n",
    "        sum = sum+m\n",
    "        m+=1\n",
    "    return(sum)"
   ]
  },
  {
   "cell_type": "code",
   "execution_count": 95,
   "id": "65c4fbbe",
   "metadata": {},
   "outputs": [
    {
     "data": {
      "text/plain": [
       "15"
      ]
     },
     "execution_count": 95,
     "metadata": {},
     "output_type": "execute_result"
    }
   ],
   "source": [
    "addition(5)"
   ]
  },
  {
   "cell_type": "code",
   "execution_count": 92,
   "id": "fe02b8c6",
   "metadata": {},
   "outputs": [],
   "source": [
    "def addition2(num3):\n",
    "    sum=0\n",
    "    for p in range(num3+1):\n",
    "        sum = sum+p\n",
    "        p+=1\n",
    "        print(sum)"
   ]
  },
  {
   "cell_type": "code",
   "execution_count": 93,
   "id": "6dac9c78",
   "metadata": {},
   "outputs": [
    {
     "name": "stdout",
     "output_type": "stream",
     "text": [
      "0\n",
      "1\n",
      "3\n",
      "6\n",
      "10\n",
      "15\n",
      "21\n"
     ]
    }
   ],
   "source": [
    "addition2(6)"
   ]
  },
  {
   "cell_type": "code",
   "execution_count": 81,
   "id": "a694f9d8",
   "metadata": {},
   "outputs": [],
   "source": [
    "def minimum(v1,v2,v3,v4):\n",
    "    minvalue=v1\n",
    "    if minvalue>=v2:\n",
    "        minvalue=v2\n",
    "    if minvalue>=v3:\n",
    "        minvalue=v3\n",
    "    if minvalue>=v4:\n",
    "        minvalue=v4\n",
    "    return(minvalue)"
   ]
  },
  {
   "cell_type": "code",
   "execution_count": 98,
   "id": "dee4461d",
   "metadata": {},
   "outputs": [
    {
     "data": {
      "text/plain": [
       "1.3"
      ]
     },
     "execution_count": 98,
     "metadata": {},
     "output_type": "execute_result"
    }
   ],
   "source": [
    "minimum(1.3,4.9,2.6,8.7)"
   ]
  },
  {
   "cell_type": "code",
   "execution_count": null,
   "id": "87722de4",
   "metadata": {},
   "outputs": [],
   "source": []
  }
 ],
 "metadata": {
  "kernelspec": {
   "display_name": "Python 3",
   "language": "python",
   "name": "python3"
  },
  "language_info": {
   "codemirror_mode": {
    "name": "ipython",
    "version": 3
   },
   "file_extension": ".py",
   "mimetype": "text/x-python",
   "name": "python",
   "nbconvert_exporter": "python",
   "pygments_lexer": "ipython3",
   "version": "3.8.8"
  }
 },
 "nbformat": 4,
 "nbformat_minor": 5
}
