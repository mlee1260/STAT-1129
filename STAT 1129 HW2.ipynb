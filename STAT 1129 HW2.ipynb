{
 "cells": [
  {
   "cell_type": "code",
   "execution_count": 2,
   "id": "51ceaf9f",
   "metadata": {},
   "outputs": [],
   "source": [
    "n=0"
   ]
  },
  {
   "cell_type": "code",
   "execution_count": 2,
   "id": "1d0a4a14",
   "metadata": {},
   "outputs": [
    {
     "name": "stdout",
     "output_type": "stream",
     "text": [
      "0\n",
      "1\n",
      "2\n",
      "3\n",
      "4\n"
     ]
    }
   ],
   "source": [
    "while n<10:\n",
    "    print(n)\n",
    "    n+=1\n",
    "    if n==5:\n",
    "        break"
   ]
  },
  {
   "cell_type": "code",
   "execution_count": 3,
   "id": "59a6c84a",
   "metadata": {},
   "outputs": [],
   "source": [
    "i = 0"
   ]
  },
  {
   "cell_type": "code",
   "execution_count": 5,
   "id": "0fd79466",
   "metadata": {},
   "outputs": [
    {
     "name": "stdout",
     "output_type": "stream",
     "text": [
      "0\n",
      "1\n",
      "2\n",
      "3\n",
      "4\n",
      "5 is not less than 5\n"
     ]
    }
   ],
   "source": [
    "while i<5:\n",
    "    print(i)\n",
    "    i+=1\n",
    "print(i,\"is not less than 5\")"
   ]
  },
  {
   "cell_type": "code",
   "execution_count": 7,
   "id": "a0c71dea",
   "metadata": {},
   "outputs": [],
   "source": [
    "fruits = ['pineapple', 'orange', 'strawberry', 'apple', 'grape']"
   ]
  },
  {
   "cell_type": "code",
   "execution_count": 59,
   "id": "5fd0cc1f",
   "metadata": {},
   "outputs": [
    {
     "name": "stdout",
     "output_type": "stream",
     "text": [
      "I like pineapple\n",
      "I like orange\n",
      "I like strawberry\n",
      "apple is really a fruit?\n"
     ]
    }
   ],
   "source": [
    "for fruit in fruits:\n",
    "    print('I like', fruit)\n",
    "    if fruit == 'strawberry':\n",
    "        print('apple is really a fruit?')\n",
    "        break"
   ]
  },
  {
   "cell_type": "code",
   "execution_count": 53,
   "id": "5b5fc61a",
   "metadata": {},
   "outputs": [],
   "source": [
    "p = 30\n",
    "sum = 0\n",
    "x = 1"
   ]
  },
  {
   "cell_type": "code",
   "execution_count": 56,
   "id": "f0c1c1b7",
   "metadata": {},
   "outputs": [
    {
     "name": "stdout",
     "output_type": "stream",
     "text": [
      "465\n"
     ]
    }
   ],
   "source": [
    "while x <= p:\n",
    "    sum = sum + x\n",
    "    x = x + 1\n",
    "print(sum)"
   ]
  },
  {
   "cell_type": "code",
   "execution_count": 60,
   "id": "f3dc01ad",
   "metadata": {},
   "outputs": [],
   "source": [
    "weather = {'sunny':'play', 'rainy':'watch TV','cloudy':'walk'}"
   ]
  },
  {
   "cell_type": "code",
   "execution_count": 61,
   "id": "8d8aa179",
   "metadata": {},
   "outputs": [
    {
     "name": "stdout",
     "output_type": "stream",
     "text": [
      "When sunny let us play\n",
      "When rainy let us watch TV\n",
      "When cloudy let us walk\n"
     ]
    }
   ],
   "source": [
    "for k,v in weather.items():\n",
    "    print('When',k,'let us',v)"
   ]
  },
  {
   "cell_type": "code",
   "execution_count": 63,
   "id": "f107c2f0",
   "metadata": {},
   "outputs": [
    {
     "name": "stdout",
     "output_type": "stream",
     "text": [
      "{'sunny': 'play', 'rainy': 'watch TV', 'cloudy': 'walk', 'snowy': 'ski'}\n"
     ]
    }
   ],
   "source": [
    "weather.update({'snowy':'ski'})\n",
    "print(weather)"
   ]
  },
  {
   "cell_type": "code",
   "execution_count": 69,
   "id": "dcce977d",
   "metadata": {},
   "outputs": [
    {
     "name": "stdout",
     "output_type": "stream",
     "text": [
      "when sunny let us play\n",
      "when rainy let us watch TV\n",
      "when cloudy let us walk\n"
     ]
    }
   ],
   "source": [
    "if 'sunny' in weather:\n",
    "    print('when sunny let us',weather['sunny'])\n",
    "    if 'rainy' in weather:\n",
    "        print('when rainy let us',weather['rainy'])\n",
    "        if 'cloudy' in weather:\n",
    "            print('when cloudy let us',weather['cloudy'])\n",
    "else:\n",
    "    print('Check the weather.')"
   ]
  },
  {
   "cell_type": "code",
   "execution_count": 1,
   "id": "0dcc69cf",
   "metadata": {},
   "outputs": [
    {
     "name": "stdout",
     "output_type": "stream",
     "text": [
      "C\n"
     ]
    }
   ],
   "source": [
    "grade = 76\n",
    "if grade>=90:\n",
    "    print('A')\n",
    "elif grade>=80:\n",
    "    print('B')\n",
    "elif grade>=70:\n",
    "    print('C')\n",
    "elif grade>=60:\n",
    "    print('D')\n",
    "else:\n",
    "    print('F')"
   ]
  },
  {
   "cell_type": "code",
   "execution_count": null,
   "id": "1bd37649",
   "metadata": {},
   "outputs": [],
   "source": []
  }
 ],
 "metadata": {
  "kernelspec": {
   "display_name": "Python 3",
   "language": "python",
   "name": "python3"
  },
  "language_info": {
   "codemirror_mode": {
    "name": "ipython",
    "version": 3
   },
   "file_extension": ".py",
   "mimetype": "text/x-python",
   "name": "python",
   "nbconvert_exporter": "python",
   "pygments_lexer": "ipython3",
   "version": "3.8.8"
  }
 },
 "nbformat": 4,
 "nbformat_minor": 5
}
