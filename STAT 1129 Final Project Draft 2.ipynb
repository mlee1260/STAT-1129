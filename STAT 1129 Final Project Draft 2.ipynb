{
 "cells": [
  {
   "cell_type": "code",
   "execution_count": 1,
   "id": "5a98493f",
   "metadata": {},
   "outputs": [],
   "source": [
    "import turtle\n",
    "import matplotlib.colors as mcolors"
   ]
  },
  {
   "cell_type": "code",
   "execution_count": 3,
   "id": "6d59313d",
   "metadata": {},
   "outputs": [],
   "source": [
    "s = turtle.getscreen()\n",
    "t = turtle.Turtle()"
   ]
  },
  {
   "cell_type": "code",
   "execution_count": 30,
   "id": "9ebc2dfc",
   "metadata": {},
   "outputs": [
    {
     "name": "stdout",
     "output_type": "stream",
     "text": [
      "Kernel interrupted successfully.\n"
     ]
    }
   ],
   "source": [
    "try:\n",
    "    turtle.mainloop()\n",
    "except:\n",
    "    print(\"Kernel interrupted successfully.\")"
   ]
  },
  {
   "cell_type": "code",
   "execution_count": 5,
   "id": "cef7fca8",
   "metadata": {},
   "outputs": [],
   "source": [
    "def getrgb(color):\n",
    "    return mcolors.to_rgb(color)"
   ]
  },
  {
   "cell_type": "code",
   "execution_count": 6,
   "id": "bce5adf1",
   "metadata": {},
   "outputs": [
    {
     "data": {
      "text/plain": [
       "(0.0, 0.0, 0.0)"
      ]
     },
     "execution_count": 6,
     "metadata": {},
     "output_type": "execute_result"
    }
   ],
   "source": [
    "getrgb('black')"
   ]
  },
  {
   "cell_type": "code",
   "execution_count": 7,
   "id": "7c2b1c71",
   "metadata": {},
   "outputs": [
    {
     "data": {
      "text/plain": [
       "(0.8901960784313725, 0.8705882352941177, 0.8313725490196079)"
      ]
     },
     "execution_count": 7,
     "metadata": {},
     "output_type": "execute_result"
    }
   ],
   "source": [
    "getrgb('#E3DED4')"
   ]
  },
  {
   "cell_type": "code",
   "execution_count": 8,
   "id": "2a5ac165",
   "metadata": {},
   "outputs": [
    {
     "data": {
      "text/plain": [
       "(0.6078431372549019, 0.10980392156862745, 0.17254901960784313)"
      ]
     },
     "execution_count": 8,
     "metadata": {},
     "output_type": "execute_result"
    }
   ],
   "source": [
    "getrgb('#9B1C2C')"
   ]
  },
  {
   "cell_type": "code",
   "execution_count": 9,
   "id": "c18a89ac",
   "metadata": {},
   "outputs": [
    {
     "data": {
      "text/plain": [
       "(0.2, 0.2, 0.37254901960784315)"
      ]
     },
     "execution_count": 9,
     "metadata": {},
     "output_type": "execute_result"
    }
   ],
   "source": [
    "getrgb('#33335F')"
   ]
  },
  {
   "cell_type": "code",
   "execution_count": 10,
   "id": "716105c0",
   "metadata": {},
   "outputs": [],
   "source": [
    "def flagbase(x,y,color1):\n",
    "    t.pencolor(getrgb(color1))\n",
    "    t.penup()\n",
    "    t.goto(x,y)\n",
    "    t.pendown()\n",
    "    for i in range(2):\n",
    "        t.fd(396)\n",
    "        t.rt(90)\n",
    "        t.fd(208)\n",
    "        t.rt(90)"
   ]
  },
  {
   "cell_type": "code",
   "execution_count": 11,
   "id": "f4ba1fac",
   "metadata": {},
   "outputs": [],
   "source": [
    "def flagblue(x,y,color2):\n",
    "    t.pen(pencolor=getrgb(color2),fillcolor=getrgb(color2))\n",
    "    t.begin_fill()\n",
    "    for i in range(2):\n",
    "        t.fd(168)\n",
    "        t.rt(90)\n",
    "        t.fd(112)\n",
    "        t.rt(90)\n",
    "    t.end_fill()"
   ]
  },
  {
   "cell_type": "code",
   "execution_count": 12,
   "id": "763c52df",
   "metadata": {},
   "outputs": [],
   "source": [
    "def flagtopstripes(x,y,color3):\n",
    "    n = y-122\n",
    "    while y>n:\n",
    "        if y == n:\n",
    "            break\n",
    "        t.penup()\n",
    "        t.goto(x+168,y)\n",
    "        t.pendown()\n",
    "        t.pen(pencolor=getrgb(color3),fillcolor=getrgb(color3))\n",
    "        t.begin_fill()\n",
    "        for i in range(2):\n",
    "            t.fd(228)\n",
    "            t.rt(90)\n",
    "            t.fd(16)\n",
    "            t.rt(90)\n",
    "        t.end_fill()\n",
    "        y += -32"
   ]
  },
  {
   "cell_type": "code",
   "execution_count": 13,
   "id": "30b2815d",
   "metadata": {},
   "outputs": [],
   "source": [
    "def flagbottomstripes(x,y,color3):\n",
    "    t.pen(pencolor=getrgb(color3),fillcolor=getrgb(color3))\n",
    "    n1 = y-96\n",
    "    while y>n1:\n",
    "        if y == n1:\n",
    "            break\n",
    "        t.penup()\n",
    "        t.goto(x,y-128)\n",
    "        t.pendown()\n",
    "        t.begin_fill()\n",
    "        for i in range(2):\n",
    "            t.fd(396)\n",
    "            t.rt(90)\n",
    "            t.fd(16)\n",
    "            t.rt(90)\n",
    "        t.end_fill()\n",
    "        y -= 32"
   ]
  },
  {
   "cell_type": "code",
   "execution_count": 14,
   "id": "2308ae07",
   "metadata": {},
   "outputs": [],
   "source": [
    "def flagoutline(x,y,color1):\n",
    "    t.pencolor(getrgb(color1))\n",
    "    t.penup()\n",
    "    t.goto(x,y)\n",
    "    t.pendown()\n",
    "    for i in range(2):\n",
    "        t.fd(396)\n",
    "        t.rt(90)\n",
    "        t.fd(208)\n",
    "        t.rt(90)"
   ]
  },
  {
   "cell_type": "code",
   "execution_count": 15,
   "id": "d9949a60",
   "metadata": {},
   "outputs": [],
   "source": [
    "def get_star(x,y,color4):\n",
    "    t.pen(pencolor = getrgb(color4), fillcolor = getrgb(color4))\n",
    "    t.penup()\n",
    "    t.pendown()\n",
    "    t.begin_fill()\n",
    "    for i in range(5):\n",
    "        t.fd(6)\n",
    "        t.lt(72)\n",
    "        t.fd(6)\n",
    "        t.rt(144)\n",
    "        i=i+1\n",
    "    t.end_fill()"
   ]
  },
  {
   "cell_type": "code",
   "execution_count": 16,
   "id": "325a33fa",
   "metadata": {},
   "outputs": [],
   "source": [
    "def row6(x,y,color4):\n",
    "    for n in range(6):\n",
    "        get_star(x,y,color4)\n",
    "        t.penup()\n",
    "        t.fd(28)\n",
    "        t.pendown()"
   ]
  },
  {
   "cell_type": "code",
   "execution_count": 17,
   "id": "fe6f2815",
   "metadata": {},
   "outputs": [],
   "source": [
    "def fiverow6(x,y,color4):\n",
    "    t.goto(x+6.146,y-8)\n",
    "    for z in range(5):\n",
    "        row6(x,y,color4)\n",
    "        t.penup()\n",
    "        t.goto(x+6.146,y-29.6)\n",
    "        t.pendown()\n",
    "        y-=21.6\n",
    "    t.penup()"
   ]
  },
  {
   "cell_type": "code",
   "execution_count": 18,
   "id": "b89e8f07",
   "metadata": {},
   "outputs": [],
   "source": [
    "def fourrow5(x,y,color4):\n",
    "    def row5(x,y,color4):\n",
    "        for n in range(5):\n",
    "            get_star(x,y,color4)\n",
    "            t.penup()\n",
    "            t.fd(28)\n",
    "            t.pendown()\n",
    "    t.goto(x+20.146,y-18.8)\n",
    "    for b in range(4):\n",
    "        row5(x,y,color4)\n",
    "        t.penup()\n",
    "        t.goto(x+20.146,y-40.4)\n",
    "        t.pendown()\n",
    "        y-=21.6"
   ]
  },
  {
   "cell_type": "code",
   "execution_count": 19,
   "id": "86adf342",
   "metadata": {},
   "outputs": [],
   "source": [
    "def stars(x,y,color4):\n",
    "    fiverow6(x,y,color4)\n",
    "    fourrow5(x,y,color4)\n",
    "    t.penup()\n",
    "    t.goto(x,y)"
   ]
  },
  {
   "cell_type": "code",
   "execution_count": 1,
   "id": "b8a14646",
   "metadata": {},
   "outputs": [],
   "source": [
    "def drawflag(x,y,color1,color2,color3,color4):\n",
    "    flagbase(x,y,color1)\n",
    "    flagblue(x,y,color2)\n",
    "    flagtopstripes(x,y,color3)\n",
    "    flagbottomstripes(x,y,color3)\n",
    "    flagoutline(x,y,color1)\n",
    "    stars(x,y,color4)"
   ]
  },
  {
   "cell_type": "code",
   "execution_count": 23,
   "id": "aea62815",
   "metadata": {},
   "outputs": [],
   "source": [
    "def main(color,x,y,color1,color2,color3,color4):\n",
    "    print(getrgb(color))\n",
    "    drawflag(x,y,color1,color2,color3,color4)"
   ]
  },
  {
   "cell_type": "code",
   "execution_count": 33,
   "id": "8a883ef1",
   "metadata": {},
   "outputs": [
    {
     "name": "stdout",
     "output_type": "stream",
     "text": [
      "(0.2, 0.2, 0.37254901960784315)\n"
     ]
    }
   ],
   "source": [
    "if __name__ == \"__main__\":\n",
    "    main('#33335F',-100,100,'black','#33335F','#9B1C2C','#E3DED4')"
   ]
  },
  {
   "cell_type": "code",
   "execution_count": null,
   "id": "2763b19f",
   "metadata": {},
   "outputs": [],
   "source": []
  }
 ],
 "metadata": {
  "kernelspec": {
   "display_name": "Python 3",
   "language": "python",
   "name": "python3"
  },
  "language_info": {
   "codemirror_mode": {
    "name": "ipython",
    "version": 3
   },
   "file_extension": ".py",
   "mimetype": "text/x-python",
   "name": "python",
   "nbconvert_exporter": "python",
   "pygments_lexer": "ipython3",
   "version": "3.8.8"
  }
 },
 "nbformat": 4,
 "nbformat_minor": 5
}
